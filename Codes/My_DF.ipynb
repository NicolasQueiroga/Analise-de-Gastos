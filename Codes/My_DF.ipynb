{
 "cells": [
  {
   "cell_type": "markdown",
   "metadata": {},
   "source": [
    "### Carrega Bibliotecas"
   ]
  },
  {
   "cell_type": "code",
   "execution_count": 2,
   "metadata": {},
   "outputs": [],
   "source": [
    "import pandas as pd\n",
    "import numpy as np\n",
    "import matplotlib.pyplot as plt\n",
    "import datetime as dt\n",
    "%matplotlib inline\n",
    "plt.rcParams['figure.figsize'] = [15, 5]"
   ]
  },
  {
   "cell_type": "markdown",
   "metadata": {},
   "source": [
    "### Carrega Data Frame"
   ]
  },
  {
   "cell_type": "code",
   "execution_count": 3,
   "metadata": {},
   "outputs": [
    {
     "data": {
      "text/html": [
       "<div>\n",
       "<style scoped>\n",
       "    .dataframe tbody tr th:only-of-type {\n",
       "        vertical-align: middle;\n",
       "    }\n",
       "\n",
       "    .dataframe tbody tr th {\n",
       "        vertical-align: top;\n",
       "    }\n",
       "\n",
       "    .dataframe thead th {\n",
       "        text-align: right;\n",
       "    }\n",
       "</style>\n",
       "<table border=\"1\" class=\"dataframe\">\n",
       "  <thead>\n",
       "    <tr style=\"text-align: right;\">\n",
       "      <th></th>\n",
       "      <th>category</th>\n",
       "      <th>title</th>\n",
       "      <th>amount</th>\n",
       "    </tr>\n",
       "    <tr>\n",
       "      <th>date</th>\n",
       "      <th></th>\n",
       "      <th></th>\n",
       "      <th></th>\n",
       "    </tr>\n",
       "  </thead>\n",
       "  <tbody>\n",
       "    <tr>\n",
       "      <th>2020-07-17</th>\n",
       "      <td>restaurante</td>\n",
       "      <td>Ifood *Ifood</td>\n",
       "      <td>32.90</td>\n",
       "    </tr>\n",
       "    <tr>\n",
       "      <th>2020-07-24</th>\n",
       "      <td>outros</td>\n",
       "      <td>Picpay*Vb3*Uberprepago</td>\n",
       "      <td>43.49</td>\n",
       "    </tr>\n",
       "    <tr>\n",
       "      <th>2020-07-30</th>\n",
       "      <td>outros</td>\n",
       "      <td>Picpay*Vb3*Uberprepago</td>\n",
       "      <td>37.40</td>\n",
       "    </tr>\n",
       "    <tr>\n",
       "      <th>2020-08-01</th>\n",
       "      <td>restaurante</td>\n",
       "      <td>Mc Donalds Cod</td>\n",
       "      <td>38.00</td>\n",
       "    </tr>\n",
       "    <tr>\n",
       "      <th>2020-09-05</th>\n",
       "      <td>Diliça</td>\n",
       "      <td>Diliça</td>\n",
       "      <td>30.00</td>\n",
       "    </tr>\n",
       "  </tbody>\n",
       "</table>\n",
       "</div>"
      ],
      "text/plain": [
       "               category                   title  amount\n",
       "date                                                   \n",
       "2020-07-17  restaurante            Ifood *Ifood   32.90\n",
       "2020-07-24       outros  Picpay*Vb3*Uberprepago   43.49\n",
       "2020-07-30       outros  Picpay*Vb3*Uberprepago   37.40\n",
       "2020-08-01  restaurante          Mc Donalds Cod   38.00\n",
       "2020-09-05       Diliça                  Diliça   30.00"
      ]
     },
     "execution_count": 3,
     "metadata": {},
     "output_type": "execute_result"
    }
   ],
   "source": [
    "df = pd.read_excel('Gastos.xlsx', index_col = 'date', parse_dates = True)\n",
    "df.tail()"
   ]
  },
  {
   "cell_type": "markdown",
   "metadata": {},
   "source": [
    "# Gasto médio por categoria"
   ]
  },
  {
   "cell_type": "code",
   "execution_count": null,
   "metadata": {},
   "outputs": [],
   "source": [
    "df_mean = df.groupby('category').mean().sort_values(by='amount')\n",
    "fig, ax = plt.subplots()\n",
    "df_mean.plot(kind='barh', ax=ax)\n",
    "ax.set_xlabel('Amount($)', size=20)\n",
    "ax.set_ylabel('Category', size=20)"
   ]
  },
  {
   "cell_type": "markdown",
   "metadata": {},
   "source": [
    "# Gasto médio por mês"
   ]
  },
  {
   "cell_type": "code",
   "execution_count": null,
   "metadata": {},
   "outputs": [],
   "source": [
    "df_mensal = df.resample('M').mean()\n",
    "df_mensal.plot()\n",
    "plt.xlabel('Date', size=20)\n",
    "plt.ylabel('Amount($)', size=20)\n",
    "plt.title('Average Monthly Spending')\n",
    "plt.show()"
   ]
  },
  {
   "cell_type": "markdown",
   "metadata": {},
   "source": [
    "# Gasto total por mês"
   ]
  },
  {
   "cell_type": "code",
   "execution_count": null,
   "metadata": {},
   "outputs": [],
   "source": [
    "df.resample('M').sum()"
   ]
  },
  {
   "cell_type": "markdown",
   "metadata": {},
   "source": [
    "# Selecionando TimeFrame expecífico"
   ]
  },
  {
   "cell_type": "code",
   "execution_count": null,
   "metadata": {},
   "outputs": [],
   "source": [
    "def timeFrame(start, end):\n",
    "    return df[start : end]\n",
    "\n",
    "def plot_timeFrame(start, end):\n",
    "    df_mensal[start : end].plot(kind='bar')\n",
    "    plt.ylabel('Amount($)', size=20)\n",
    "    plt.xlabel('Date', size=20)\n",
    "    return\n",
    "\n",
    "print('Selecione a data no formato YYYY-MM')\n",
    "start = input('Data inicial: ')\n",
    "end = input('Data Final: ')"
   ]
  },
  {
   "cell_type": "code",
   "execution_count": null,
   "metadata": {},
   "outputs": [],
   "source": [
    "timeFrame(start, end)"
   ]
  },
  {
   "cell_type": "code",
   "execution_count": null,
   "metadata": {},
   "outputs": [],
   "source": [
    "plot_timeFrame(start, end)"
   ]
  },
  {
   "cell_type": "markdown",
   "metadata": {},
   "source": [
    "# Gasto total por categoria"
   ]
  },
  {
   "cell_type": "code",
   "execution_count": null,
   "metadata": {},
   "outputs": [],
   "source": [
    "df.groupby('category').sum()"
   ]
  },
  {
   "cell_type": "markdown",
   "metadata": {},
   "source": [
    "# Quantidade de tranações por categoria"
   ]
  },
  {
   "cell_type": "code",
   "execution_count": null,
   "metadata": {},
   "outputs": [],
   "source": [
    "categorias = []\n",
    "filtered_df = df.dropna(subset=['category'])\n",
    "for i in filtered_df['category']:\n",
    "    if i not in categorias:\n",
    "        categorias.append(i)\n",
    "for e in categorias:\n",
    "    print(e)\n",
    "\n",
    "def porCategoria(cat):\n",
    "    df['count'] = 1\n",
    "    df_count = df.groupby(['category']).count()['count']\n",
    "    return('Você fez transações na categoria {0} {1}x'.format(cat, df_count[cat]))\n",
    "\n",
    "cat = input('Escolha uma das categorias: ')\n",
    "porCategoria(cat)"
   ]
  },
  {
   "cell_type": "markdown",
   "metadata": {},
   "source": [
    "# Analise de gastos nos últimos mês"
   ]
  },
  {
   "cell_type": "code",
   "execution_count": null,
   "metadata": {},
   "outputs": [],
   "source": [
    "g = df.groupby(pd.Grouper(freq='M'))\n",
    "dfs = [group for _,group in g]\n",
    "meses = {'ultimo' : -1, 'penultimo' : -2, 'antepenultimo' : -3}\n",
    "print('----------------------------------------------------------------')\n",
    "qd = input('Ver gasto de qual mês (ultimo, penultimo, antepenultimo)? ')\n",
    "print('----------------------------------------------------------------\\n')\n",
    "x = meses[qd]\n",
    "\n",
    "print('Gasto total no último mês: R$ {0:.2f}'.format(dfs[x].sum()['amount']))\n",
    "print('')\n",
    "print('Gasto médio no último mês: R$ {0:.2f}'.format(dfs[x].mean()['amount']))"
   ]
  }
 ],
 "metadata": {
  "kernelspec": {
   "display_name": "Python 3",
   "language": "python",
   "name": "python3"
  },
  "language_info": {
   "codemirror_mode": {
    "name": "ipython",
    "version": 3
   },
   "file_extension": ".py",
   "mimetype": "text/x-python",
   "name": "python",
   "nbconvert_exporter": "python",
   "pygments_lexer": "ipython3",
   "version": "3.8.3"
  }
 },
 "nbformat": 4,
 "nbformat_minor": 4
}
